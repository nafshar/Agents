{
 "cells": [
  {
   "cell_type": "markdown",
   "id": "321b7fb8",
   "metadata": {},
   "source": [
    "# Notebook Overview\n",
    "\n",
    "## Motivation \n",
    "\n",
    "Tabular data reasoning in the financial domain. Multiple reasoning steps may be needed to identify the right answer. For example, a financial analyst working with financial statements may be interested in computing various financial ratios with natural language queries.\n",
    "\n",
    "Some examples may include:\n",
    "- ROE (Return on Equity) = Net Income / Shareholder's Equity\n",
    "- Net Profit Margin = Net Income / Revenue\n",
    "- Asset Turnover = Revenue / Average Total Assets\n",
    "- Financial Leverage = Average Total Assets / Shareholder's Equity\n",
    "\n",
    "Having an Agent which is able to correctly compute these and other ratios would be a great help for any analyst in the field of Finance.\n",
    "\n",
    "## Objective\n",
    "\n",
    "In this notebook we explore how to setup a [Cohere Agent](https://docs.cohere.com/docs/multi-step-tool-use) to answer questions over tables in Apple's SEC10K 2020 form. This notebook uses Cohere's native API with langchain python tool. \n",
    "\n",
    "## Table of Contents\n",
    "\n",
    "- [Setup](#setup)\n",
    "- [Define Python Tool](#define_python_tool)\n",
    "- [Create Cohere Agent](#create_cohere_agent)\n",
    "- [QnA over Single Table](#qna_over_single_table)\n",
    "- [QnA over Multiple Tables](#qna_over_multiple_tables)\n",
    "- [Error Resilience](#error_resilience)\n",
    "- [Add Viewing Tool](#add_viewing_tool)\n"
   ]
  },
  {
   "cell_type": "markdown",
   "id": "a9f349f1",
   "metadata": {},
   "source": [
    "<a id=\"setup\"></a>\n",
    "\n",
    "# Setup"
   ]
  },
  {
   "cell_type": "code",
   "execution_count": null,
   "id": "b4231925",
   "metadata": {},
   "outputs": [],
   "source": [
    "####################################################################################################\n",
    "#\n",
    "# Uncomment if you need to install the following packages\n",
    "#\n",
    "####################################################################################################\n",
    "\n",
    "# !pip install --quiet langchain langchain_experimental cohere --upgrade"
   ]
  },
  {
   "cell_type": "code",
   "execution_count": null,
   "id": "72c6666d-a2f0-4895-aa70-bddfc6028d0c",
   "metadata": {},
   "outputs": [],
   "source": [
    "#!pip install --quiet typing langchain langchain_experimental cohere httpx --upgrade"
   ]
  },
  {
   "cell_type": "code",
   "execution_count": null,
   "id": "bce0ca82-fc00-40bb-9d0e-a274bd2eb8a7",
   "metadata": {
    "colab": {
     "base_uri": "https://localhost:8080/"
    },
    "id": "bce0ca82-fc00-40bb-9d0e-a274bd2eb8a7",
    "outputId": "c6c45466-2abc-40fb-8e0e-823d5339e902"
   },
   "outputs": [],
   "source": [
    "import os\n",
    "from typing import List\n",
    "\n",
    "import httpx\n",
    "import pydantic\n",
    "\n",
    "import cohere\n",
    "import langchain\n",
    "import langchain_core\n",
    "import langchain_experimental\n",
    "import pandas as pd\n",
    "from langchain.agents import Tool\n",
    "from langchain_core.pydantic_v1 import BaseModel, Field\n",
    "from langchain_experimental.utilities import PythonREPL"
   ]
  },
  {
   "cell_type": "code",
   "execution_count": null,
   "id": "56a5af0d",
   "metadata": {},
   "outputs": [],
   "source": [
    "# versions\n",
    "print('cohere version:', cohere.__version__)\n",
    "print('langchain version:', langchain.__version__)\n",
    "print('langchain_core version:', langchain_core.__version__)\n",
    "print('langchain_experimental version:', langchain_experimental.__version__)"
   ]
  },
  {
   "cell_type": "markdown",
   "id": "353e63cb",
   "metadata": {},
   "source": [
    "### API Key \n",
    "This code is presenly desiged to run on Google Colab. If you decide to run it elsewhere, you need to \n",
    "adapt the code to pull the API Key accordingly."
   ]
  },
  {
   "cell_type": "code",
   "execution_count": null,
   "id": "ad9f883d",
   "metadata": {},
   "outputs": [],
   "source": [
    "COHERE_API_KEY = os.environ[\"COHERE_API_KEY\"]\n",
    "COHERE_MODEL = 'command-r-plus'\n",
    "co = cohere.Client(api_key=COHERE_API_KEY)"
   ]
  },
  {
   "cell_type": "markdown",
   "id": "e670302a",
   "metadata": {},
   "source": [
    "### Data Loading \n",
    "These data files have been processed to be used by this notebook. The original forms require \n",
    "additional text processing to be extract these data."
   ]
  },
  {
   "cell_type": "code",
   "execution_count": null,
   "id": "1d4f7bd7",
   "metadata": {},
   "outputs": [],
   "source": [
    "income_statement = pd.read_csv('income_statement.csv')\n",
    "balance_sheet = pd.read_csv('balance_sheet.csv')"
   ]
  },
  {
   "cell_type": "code",
   "execution_count": null,
   "id": "a5a8ddd7",
   "metadata": {},
   "outputs": [],
   "source": [
    "income_statement.head(2)"
   ]
  },
  {
   "cell_type": "code",
   "execution_count": null,
   "id": "f254c1af",
   "metadata": {},
   "outputs": [],
   "source": [
    "balance_sheet.head(2)"
   ]
  },
  {
   "cell_type": "markdown",
   "id": "58a1e1ce",
   "metadata": {},
   "source": [
    "<a id=\"define_python_tool\"></a>\n",
    "\n",
    "# Define Python Tool \n",
    "\n",
    "Here we define the python tool using langchain's PythonREPL. We also define `functions_map` that will later be used by the Cohere Agent to correctly map function name to the actual function. Lastly, we define the tools that will be passed in the Cohere API. \n"
   ]
  },
  {
   "cell_type": "code",
   "execution_count": null,
   "id": "d01b1681",
   "metadata": {},
   "outputs": [],
   "source": [
    "python_repl = PythonREPL()\n",
    "python_tool = Tool(\n",
    "    name=\"python_repl\",\n",
    "    description=\"Executes python code and returns the result. The code runs in a static sandbox without interactive mode, so print output or save output to a file.\",\n",
    "    func=python_repl.run,\n",
    ")\n",
    "python_tool.name = \"python_interpreter\"\n",
    "\n",
    "class ToolInput(BaseModel):\n",
    "    code: str = Field(description=\"Python code to execute.\")\n",
    "python_tool.args_schema = ToolInput\n",
    "\n",
    "def run_python_code(code: str) -> dict:\n",
    "    \"\"\"\n",
    "    Function to run given python code\n",
    "    \"\"\"\n",
    "    input_code = ToolInput(code=code)\n",
    "    return {'python_answer': python_tool.func(input_code.code)}\n",
    "\n",
    "functions_map = {\n",
    "    \"run_python_code\": run_python_code,\n",
    "}\n",
    "\n",
    "tools = [\n",
    "    {\n",
    "        \"name\": \"run_python_code\",\n",
    "        \"description\": \"given a python code, runs it\",\n",
    "        \"parameter_definitions\": {\n",
    "            \"code\": {\n",
    "                \"description\": \"executable python code\",\n",
    "                \"type\": \"str\",\n",
    "                \"required\": True\n",
    "            }\n",
    "        }\n",
    "    },]"
   ]
  },
  {
   "cell_type": "markdown",
   "id": "e58c2745",
   "metadata": {},
   "source": [
    "<a id=\"create_cohere_agent\"></a>\n",
    "\n",
    "# Create Cohere Agent \n",
    "\n",
    "As [Vanilla_Multi_Step_Tool_Use.ipynb](https://github.com/cohere-ai/notebooks/blob/fbf6c8dad47d7557314e9248a267175c7a6908d8/notebooks/Vanilla_Multi_Step_Tool_Use.ipynb) shows, you have a lot of flexiblity on how you can customize and interact with the cohere agent. Here I am creating a wrapper so that it automatically determines when to stop calling the tools and output final answer. It will run maximum of 15 steps. "
   ]
  },
  {
   "cell_type": "code",
   "execution_count": null,
   "id": "8183d469",
   "metadata": {},
   "outputs": [],
   "source": [
    "def cohere_agent(\n",
    "    message: str,\n",
    "    preamble: str,\n",
    "    tools: List[dict],\n",
    "    force_single_step=False,\n",
    "    verbose: bool = False,\n",
    ") -> str:\n",
    "    \"\"\"\n",
    "    Function to handle multi-step tool use api.\n",
    "\n",
    "    Args:\n",
    "        message (str): The message to send to the Cohere AI model.\n",
    "        preamble (str): The preamble or context for the conversation.\n",
    "        tools (list of dict): List of tools to use in the conversation.\n",
    "        verbose (bool, optional): Whether to print verbose output. Defaults to False.\n",
    "\n",
    "    Returns:\n",
    "        str: The final response from the call.\n",
    "    \"\"\"\n",
    "\n",
    "    counter = 1\n",
    "\n",
    "    response = co.chat(\n",
    "        model=COHERE_MODEL,\n",
    "        message=message,\n",
    "        preamble=preamble,\n",
    "        tools=tools,\n",
    "        force_single_step=force_single_step,\n",
    "    )\n",
    "\n",
    "    if verbose:\n",
    "        print(f\"\\nrunning 0th step.\")\n",
    "        print(response.text)\n",
    "\n",
    "    while response.tool_calls:\n",
    "        tool_results = []\n",
    "\n",
    "        if verbose:\n",
    "            print(f\"\\nrunning {counter}th step.\")\n",
    "\n",
    "        for tool_call in response.tool_calls:\n",
    "            output = functions_map[tool_call.name](**tool_call.parameters)\n",
    "            outputs = [output]\n",
    "            tool_results.append({\"call\": tool_call, \"outputs\": outputs})\n",
    "\n",
    "            if verbose:\n",
    "                print(\n",
    "                    f\"= running tool {tool_call.name}, with parameters: {tool_call.parameters}\"\n",
    "                )\n",
    "                print(f\"== tool results: {outputs}\")\n",
    "\n",
    "        response = co.chat(\n",
    "            model=COHERE_MODEL,\n",
    "            message=\"\",\n",
    "            chat_history=response.chat_history,\n",
    "            preamble=preamble,\n",
    "            tools=tools,\n",
    "            force_single_step=force_single_step,\n",
    "            tool_results=tool_results,\n",
    "        )\n",
    "\n",
    "        if verbose:\n",
    "            print(response.text)\n",
    "\n",
    "            counter += 1\n",
    "\n",
    "    return response.text\n",
    "\n",
    "\n",
    "# test\n",
    "output = cohere_agent(\"can you use python to answer 1 + 1\", None, tools, verbose=True)"
   ]
  },
  {
   "cell_type": "markdown",
   "id": "d3e42dd8-20d0-4b97-90fd-4a4ce5836c64",
   "metadata": {},
   "source": [
    "<a id=\"qna_over_single_table\"></a>\n",
    "\n",
    "# QnA over Single Table \n",
    "\n",
    "In the example below, we show how the python tool can be used to load a dataframe and extract information from it. To do this successfully we need to:\n",
    "\n",
    "1) pass the file name to the preamble so the model knows how to load the dataframe\n",
    "2) pass a preview of the dataframe in the preamble so the model knows which columns/rows to query\n",
    "\n",
    "We will ask the following questions given income statement data. \n",
    "1. what is the highest value of cost of goods and service?\n",
    "2. what is the largest gross profit margin?\n",
    "3. what is the minimum ratio of operating income loss divided by non operating income expense? "
   ]
  },
  {
   "cell_type": "code",
   "execution_count": null,
   "id": "b77ca643",
   "metadata": {},
   "outputs": [],
   "source": [
    "question_dict ={\n",
    "    'q1': ['what is the highest value of cost of goods and service?',169559000000],\n",
    "    'q2': ['what is the largest gross profit margin?',0.3836194330595236],\n",
    "    'q3': ['what is the minimum ratio of operating income loss divided by non operating income expense?',35.360599]\n",
    "}"
   ]
  },
  {
   "cell_type": "code",
   "execution_count": null,
   "id": "ce94beed",
   "metadata": {},
   "outputs": [],
   "source": [
    "preamble = \"\"\"\n",
    "You are an expert who answers the user's question. You are working with a pandas dataframe in Python. The name of the dataframe is `income_statement.csv`.\n",
    "Here is a preview of the dataframe:\n",
    "{head_df}\n",
    "\"\"\".format(head_df=income_statement.head(3).to_markdown())\n",
    "\n",
    "print(preamble)"
   ]
  },
  {
   "cell_type": "code",
   "execution_count": null,
   "id": "6346184f",
   "metadata": {},
   "outputs": [],
   "source": [
    "for qsn,val in question_dict.items():\n",
    "    print(f'question:{qsn}')\n",
    "    question = val[0]\n",
    "    answer = val[1]\n",
    "    output = cohere_agent(question, preamble, tools, verbose=True)\n",
    "    print(f'GT Answer:{val[1]}')\n",
    "    print('-'*50)"
   ]
  },
  {
   "cell_type": "markdown",
   "id": "d0200ea4",
   "metadata": {},
   "source": [
    "<a id=\"qna_over_multiple_tables\"></a>\n",
    "\n",
    "# QnA over Multiple Tables \n",
    "\n",
    "We now make the task for the Agent more complicated, by asking it a question the answer for which can be computed only by retrieving relevant information from multiple tables: \n",
    "\n",
    "- Q: What is the ratio of the largest stockholders equity to the smallest revenue?\n",
    "\n",
    "As you will see below, this question can be obtained only by accessing both the balance sheet and the income statement. \n",
    "\n"
   ]
  },
  {
   "cell_type": "code",
   "execution_count": null,
   "id": "94ccdb3c",
   "metadata": {},
   "outputs": [],
   "source": [
    "question_dict ={\n",
    "    'q1': ['what is the ratio of the largest stockholders equity to the smallest revenue'],\n",
    "}"
   ]
  },
  {
   "cell_type": "code",
   "execution_count": null,
   "id": "59ee25cd",
   "metadata": {},
   "outputs": [],
   "source": [
    "# get the largest stockholders equity\n",
    "x = balance_sheet['StockholdersEquity'].astype(float).max()\n",
    "print(f\"The largest stockholders equity value is: {x}\")\n",
    "\n",
    "# get the smallest revenue\n",
    "y = income_statement['RevenueFromContractWithCustomerExcludingAssessedTax'].astype(float).min()\n",
    "print(f\"The smallest revenue value is: {y}\")\n",
    "\n",
    "# compute the ratio\n",
    "ratio = x/y\n",
    "print(f\"Their ratio is: {ratio}\")"
   ]
  },
  {
   "cell_type": "code",
   "execution_count": null,
   "id": "a5f58e0f",
   "metadata": {},
   "outputs": [],
   "source": [
    "preamble = \"\"\"\n",
    "You are an expert who answers the user's question in complete sentences. You are working with two pandas dataframe in Python. Ensure your output is a string.\n",
    "\n",
    "Here is a preview of the `income_statement.csv` dataframe:\n",
    "{table_1}\n",
    "\n",
    "Here is a preview of the `balance_sheet.csv` dataframe:\n",
    "{table_2}\n",
    "\"\"\".format(table_1=income_statement.head(3).to_markdown(),table_2=balance_sheet.head(3).to_markdown())\n",
    "\n",
    "\n",
    "print(preamble)"
   ]
  },
  {
   "cell_type": "code",
   "execution_count": null,
   "id": "537fef10",
   "metadata": {},
   "outputs": [],
   "source": [
    "for qsn,val in question_dict.items():\n",
    "    print(f'question:{qsn}')\n",
    "    question = val[0]\n",
    "    output = cohere_agent(question, preamble, tools, verbose=True)"
   ]
  },
  {
   "cell_type": "markdown",
   "id": "571c8c96",
   "metadata": {},
   "source": [
    "<a id=\"error_resilience\"></a>\n",
    "\n",
    "# Error Resilience\n",
    "\n",
    "In the previous example over single table, the model successfully answered the questions. However, the model may not always have access to the preview of the data. Wwhen we remove the preview from the preamble, the model runs into an error and will not produce the answer. We will solve this problem in two different ways: \n",
    "\n",
    "1. Asking the model to keep trying until it fixes the issue. \n",
    "2. Giving the model another tool to view the data and telling it to preview the data before writing code. \n",
    "\n",
    "The second method allows the model to obtain the answer with fewer steps. \n"
   ]
  },
  {
   "cell_type": "code",
   "execution_count": null,
   "id": "a7940e83",
   "metadata": {},
   "outputs": [],
   "source": [
    "preamble = \"\"\"\n",
    "You are an expert who answers the user's question. You are working with a pandas dataframe in Python. The name of the dataframe is `income_statement.csv`.\n",
    "\"\"\"\n",
    "\n",
    "question1 = \"what is the highest value of cost of goods and service?\"\n",
    "\n",
    "output = cohere_agent(question1, preamble, tools, verbose=True)"
   ]
  },
  {
   "cell_type": "markdown",
   "id": "85189096",
   "metadata": {},
   "source": [
    "As you see above, the model failed to execute because it assumed certain column names but they turned out to be wrong. One simple fix is to tell the model to continue to solve the problem in the face of error. "
   ]
  },
  {
   "cell_type": "code",
   "execution_count": null,
   "id": "2156f145",
   "metadata": {},
   "outputs": [],
   "source": [
    "preamble = \"\"\"\n",
    "You are an expert who answers the user's question. You are working with a pandas dataframe in Python. The name of the dataframe is `income_statement.csv`.\n",
    "If you run into error, keep trying until you fix it. You may need to view the data to understand the error.\n",
    "\"\"\"\n",
    "\n",
    "question1 = \"what is the highest value of cost of goods and service?\"\n",
    "\n",
    "output = cohere_agent(question1, preamble, tools, verbose=True)"
   ]
  },
  {
   "cell_type": "markdown",
   "id": "6f629e56",
   "metadata": {},
   "source": [
    "<a id=\"add_viewing_tool\"></a>\n",
    "\n",
    "### Add Viewing Tool "
   ]
  },
  {
   "cell_type": "markdown",
   "id": "d74ff2d9",
   "metadata": {},
   "source": [
    "What if we directly give the model the ability to view the data as a tool so that it can explicitly use it instead of indirectly figuring it out? "
   ]
  },
  {
   "cell_type": "code",
   "execution_count": null,
   "id": "e8ac7156",
   "metadata": {},
   "outputs": [],
   "source": [
    "def view_csv_data(path: str) -> dict:\n",
    "    \"\"\"\n",
    "    Function to view the head, tail and shape of a given csv file.\n",
    "    \"\"\"\n",
    "    df = pd.read_csv(path)\n",
    "\n",
    "    return {\n",
    "        \"head\": df.head().to_string(),\n",
    "        \"tail\": df.tail().to_string(),\n",
    "        \"shape\": str(df.shape),\n",
    "    }\n",
    "\n",
    "functions_map = {\n",
    "    \"run_python_code\": run_python_code,\n",
    "    \"view_csv_data\": view_csv_data\n",
    "}\n",
    "\n",
    "tools = [\n",
    "    {\n",
    "        \"name\": \"run_python_code\",\n",
    "        \"description\": \"given a python code, runs it\",\n",
    "        \"parameter_definitions\": {\n",
    "            \"code\": {\n",
    "                \"description\": \"executable python code\",\n",
    "                \"type\": \"str\",\n",
    "                \"required\": True\n",
    "            }\n",
    "        }\n",
    "    },\n",
    "    {\n",
    "        \"name\": \"view_csv_data\",\n",
    "        \"description\": \"give path to csv data and get head, tail and shape of the data\",\n",
    "        \"parameter_definitions\": {\n",
    "            \"path\": {\n",
    "                \"description\": \"path to csv\",\n",
    "                \"type\": \"str\",\n",
    "                \"required\": True\n",
    "            }\n",
    "        }\n",
    "    },\n",
    "]"
   ]
  },
  {
   "cell_type": "code",
   "execution_count": null,
   "id": "acb59e56",
   "metadata": {},
   "outputs": [],
   "source": [
    "preamble = \"\"\"\n",
    "You are an expert who answers the user's question. You are working with a pandas dataframe in Python. The name of the dataframe is `income_statement.csv`.\n",
    "Always view the data first to write flawless code.\n",
    "\"\"\"\n",
    "\n",
    "question1 = \"what is the highest value of cost of goods and service?\"\n",
    "\n",
    "output = cohere_agent(question1, preamble, tools, verbose=True)"
   ]
  },
  {
   "cell_type": "markdown",
   "id": "105cf4ee",
   "metadata": {},
   "source": [
    "By being prescriptive, we were able to cut down a step and get to the answer faster. "
   ]
  }
 ],
 "metadata": {
  "colab": {
   "provenance": []
  },
  "kernelspec": {
   "display_name": "Python 3 (ipykernel)",
   "language": "python",
   "name": "python3"
  },
  "language_info": {
   "codemirror_mode": {
    "name": "ipython",
    "version": 3
   },
   "file_extension": ".py",
   "mimetype": "text/x-python",
   "name": "python",
   "nbconvert_exporter": "python",
   "pygments_lexer": "ipython3",
   "version": "3.11.5"
  }
 },
 "nbformat": 4,
 "nbformat_minor": 5
}
